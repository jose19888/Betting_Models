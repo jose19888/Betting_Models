{
 "cells": [
  {
   "cell_type": "code",
   "execution_count": 15,
   "metadata": {},
   "outputs": [],
   "source": [
    "import os\n",
    "import sys\n",
    "os.chdir('C:\\\\Users\\\\carpe\\\\Betting_models')"
   ]
  },
  {
   "cell_type": "code",
   "execution_count": 16,
   "metadata": {},
   "outputs": [],
   "source": [
    "import csv\n",
    "import math\n",
    "import numpy as np\n",
    "import ast \n",
    "from scipy.stats import poisson "
   ]
  },
  {
   "cell_type": "code",
   "execution_count": 17,
   "metadata": {},
   "outputs": [
    {
     "data": {
      "text/plain": [
       "1"
      ]
     },
     "execution_count": 17,
     "metadata": {},
     "output_type": "execute_result"
    }
   ],
   "source": [
    "MyData = 'Icehockey_OU_data_3000.csv' # extracting the data we have been provided by Tipico Quant team.\n",
    "\n",
    "teamHOCKEY_list = [] # We create an empty list. We will use this list to add all the name of the teams we are dealing with.\n",
    "\n",
    "teams_performance = open('teamHOCKEY_list.txt', 'w') # We create a text file where we will deposit the performance statas for each team. \n",
    "teams_performance.write(\"\"\"{\"\"\")            "
   ]
  },
  {
   "cell_type": "code",
   "execution_count": 18,
   "metadata": {},
   "outputs": [],
   "source": [
    "# we want to iterate over our data file and find all the team names that are going to be used. \n",
    "# We open our csv file, skipping the first line (titles).\n",
    "MyDataRead = csv.reader(open(MyData)) \n",
    "next(MyDataRead)                                    \n",
    "                                   \n",
    "for row in MyDataRead: # We create a list of all the ice hockey teams.\n",
    "                    \n",
    "    if row[2] not in teamHOCKEY_list:\n",
    "        teamHOCKEY_list.append(row[2]) \n",
    "                                 \n",
    "    if row[4] not in teamHOCKEY_list:\n",
    "        teamHOCKEY_list.append(row[4])\n",
    "\n",
    "teamHOCKEY_list.sort() # We order alphabetically our team list .\n"
   ]
  },
  {
   "cell_type": "code",
   "execution_count": 19,
   "metadata": {},
   "outputs": [],
   "source": [
    "# We create a dynamic table where keeping the record of: local goals, foreign goals, local conceded goals, foreign conceded goals.\n",
    "# In addition, we track the amount of local and foreign matches.\n",
    "for team in teamHOCKEY_list:\n",
    "    teams_performance.write(\"\"\"\t'%s': {'local_goals': 0, 'foreign_goals': 0, 'local_goals_conceded': 0, 'foreign_goals_conceded': 0, \n",
    "    'local_games': 0, 'foreign_games': 0, 'Attack_Ratio_local': 0, 'Defend_Ratio_local': 0, 'Attack_Ratio_foreign': 0, 'Defend_Ratio_foreign': 0},\n",
    "    \"\"\" % (team))\n",
    "\n",
    "#  We write the end of the file and close it. This is so as to save what we have written if we want to open it again.\n",
    "teams_performance.write(\"}\") \n",
    "teams_performance.close()\n",
    "\n",
    "# We create our dictionary where we will hold and update our data.\n",
    "# We use the ast module which will read the teamHOCKEY_list.txt file and then create a dictionary called ‘dict’.\n",
    "getting_current_performance = open('teamHOCKEY_list.txt', 'r').read() \n",
    "dict = ast.literal_eval(getting_current_performance)"
   ]
  },
  {
   "cell_type": "code",
   "execution_count": 20,
   "metadata": {},
   "outputs": [],
   "source": [
    "# open another iteration of the data and skip the first line as usual, before we start with our main loop.\n",
    "MyDataRead = csv.reader(open(MyData))\n",
    "next(MyDataRead)\n",
    "Probabilities= {}\n",
    "odds = {}"
   ]
  },
  {
   "cell_type": "code",
   "execution_count": 21,
   "metadata": {},
   "outputs": [
    {
     "name": "stderr",
     "output_type": "stream",
     "text": [
      "C:\\Users\\carpe\\Anaconda3\\lib\\site-packages\\ipykernel_launcher.py:64: RuntimeWarning: divide by zero encountered in double_scalars\n",
      "C:\\Users\\carpe\\Anaconda3\\lib\\site-packages\\ipykernel_launcher.py:67: RuntimeWarning: divide by zero encountered in double_scalars\n"
     ]
    }
   ],
   "source": [
    "# we look at each individual game in our data file and do some work on each of them.\n",
    "# we want to reset these after every game we have analysed.\n",
    "for game in MyDataRead:\n",
    "    local_team = game[2] # We get the name of the local team\n",
    "    foreign_team = game[4] # We get the name of the foreign team\n",
    "    local_goals = int(game[19]) # We get the number goals of the local team\n",
    "    foreign_goals = int(game[20]) # We get the number goals of the foreign team\n",
    "    #print(local_team,':',local_goals, foreign_team,':',foreign_goals)\n",
    "    \n",
    "    curr_local_goals = 0\n",
    "    curr_foreign_goals = 0\n",
    "    avg_local_goals = 1\n",
    "    avg_foreign_goals = 1\n",
    "   \n",
    "    # We update the Performance Stats for both involved teams..\n",
    "    for key, value in dict.items():\n",
    "        curr_local_goals += dict[key]['local_goals']\n",
    "        curr_foreign_goals += dict[key]['foreign_goals']\n",
    "        \n",
    "        #print(curr_local_goals,curr_foreign_goals)\n",
    "        \n",
    "        if dict[key]['local_games'] >1  and dict[key]['foreign_games'] >1: \n",
    "            avg_local_goals = curr_local_goals / (dict[key]['local_games'] + dict[key]['foreign_games'])\n",
    "            avg_foreign_goals = curr_foreign_goals / (dict[key]['local_games'] + dict[key]['foreign_games'])\n",
    "           \n",
    "    \n",
    "    # We calculate 4 ratios to approach the current potential performance of the team in Attacking/Defending\n",
    "    if dict[key]['local_games'] >1  and dict[key]['foreign_games'] >1:\n",
    "            local_team_attack = (dict[local_team]['Attack_Ratio_local'] + dict[local_team]['Attack_Ratio_foreign']) / 2\n",
    "            foreign_team_attack = (dict[foreign_team]['Attack_Ratio_local'] + dict[foreign_team]['Attack_Ratio_foreign']) / 2\n",
    " \n",
    "            local_team_defend = (dict[local_team]['Defend_Ratio_local'] + dict[local_team]['Defend_Ratio_foreign']) / 2\n",
    "            foreign_team_defend = (dict[foreign_team]['Defend_Ratio_local'] + dict[foreign_team]['Defend_Ratio_foreign']) / 2\n",
    " \n",
    "            # expected value for how many goals will be scored by both the local and the foreign team.\n",
    "            local_team_exp = avg_local_goals * local_team_attack * foreign_team_defend\n",
    "            foreign_team_exp = avg_foreign_goals * foreign_team_attack * local_team_defend\n",
    "            \n",
    "       \n",
    "    # Probability calculation using cummulative distribution function of Poisson.      \n",
    "            \n",
    "            # Probability of the event: under 4.5 goals.\n",
    "            under4_5 = poisson.cdf(4, (local_team_exp+foreign_team_exp)/2) \n",
    "            \n",
    "            \n",
    "            # Probability of the event: over 4.5 goals.\n",
    "            over4_5 = 1 - under4_5 # By definition\n",
    "            \n",
    "            \n",
    "            # Probability of the even: under 6.5 goals.\n",
    "            under6_5 = poisson.cdf(6, (local_team_exp+foreign_team_exp)/2) # here we have under 6.5\n",
    "                      \n",
    "            # Probability of the event: over 6.5 goals\n",
    "            over6_5 = 1 - under6_5 # By definition\n",
    "            \n",
    "            g = dict[key]['local_games'] + dict[key]['foreign_games']      \n",
    "            \n",
    "            Probabilities[(team, g)] = {\"under4_5\" : under4_5, \"over4_5\" : over4_5, \"under6_5\" : under6_5, \"over6_5\" : over6_5} \n",
    "            # We store the probabilities per team AND the number of games they have played         \n",
    "            \n",
    "            # Fair odds calculation:\n",
    "            \n",
    "            oddUnder4_5 = 1/under4_5\n",
    "            oddOver4_5 = 1/over4_5\n",
    "            \n",
    "            oddUnder6_5 = 1/under6_5\n",
    "            oddOver4_5 = 1/over4_5\n",
    "            \n",
    "            \n",
    "                    \n",
    "           \n",
    "                           \n",
    "             # UPDATE VARIABLES AFTER MATCH HAS BEEN PLAYED\n",
    "             # adding the goals scored and conceded in this game we are in right now, and also the total tally of games played.\n",
    "    dict[local_team]['local_goals'] += local_goals\n",
    "    dict[local_team]['local_goals_conceded'] += foreign_goals\n",
    "    dict[local_team]['local_games'] += 1\n",
    " \n",
    "    dict[foreign_team]['foreign_goals'] += foreign_goals\n",
    "    dict[foreign_team]['foreign_goals_conceded'] += local_goals\n",
    "    dict[foreign_team]['foreign_games'] += 1\n",
    "   \n",
    "    \n",
    "            \n",
    "    # We create the current performance team ratios\n",
    "    for key, value in dict.items():\n",
    "        if dict[key]['local_games'] >1  and dict[key]['foreign_games'] >1:\n",
    "            Attack_Ratio_local = (dict[key]['local_goals'] / dict[key]['local_games']) / avg_local_goals\n",
    "            Defend_Ratio_local = (dict[key]['local_goals_conceded'] / dict[key]['local_games']) / avg_foreign_goals\n",
    " \n",
    "            Attack_Ratio_foreign = (dict[key]['foreign_goals'] / dict[key]['foreign_games']) / avg_foreign_goals\n",
    "            Defend_Ratio_foreign = (dict[key]['foreign_goals_conceded'] / dict[key]['foreign_games']) / avg_local_goals\n",
    " \n",
    "            dict[key]['Attack_Ratio_local'] = Attack_Ratio_local\n",
    "            dict[key]['Defend_Ratio_local'] = Defend_Ratio_local\n",
    "            dict[key]['Attack_Ratio_foreign'] = Attack_Ratio_foreign\n",
    "            dict[key]['Defend_Ratio_foreign'] = Defend_Ratio_foreign"
   ]
  },
  {
   "cell_type": "code",
   "execution_count": null,
   "metadata": {},
   "outputs": [],
   "source": []
  }
 ],
 "metadata": {
  "kernelspec": {
   "display_name": "Python 3",
   "language": "python",
   "name": "python3"
  },
  "language_info": {
   "codemirror_mode": {
    "name": "ipython",
    "version": 3
   },
   "file_extension": ".py",
   "mimetype": "text/x-python",
   "name": "python",
   "nbconvert_exporter": "python",
   "pygments_lexer": "ipython3",
   "version": "3.6.8"
  }
 },
 "nbformat": 4,
 "nbformat_minor": 2
}
